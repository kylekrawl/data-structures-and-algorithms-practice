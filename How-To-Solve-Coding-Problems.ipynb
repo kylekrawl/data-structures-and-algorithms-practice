{
 "cells": [
  {
   "cell_type": "code",
   "execution_count": 20,
   "id": "78af96ff",
   "metadata": {},
   "outputs": [
    {
     "name": "stdout",
     "output_type": "stream",
     "text": [
      "False\n",
      "True\n",
      "False\n",
      "True\n"
     ]
    }
   ],
   "source": [
    "# Sample interview question 1:\n",
    "# Given 2 lists, create a function that\n",
    "# lets a user know (true/false) whether\n",
    "# these two arrays contain any common items\n",
    "# Example:\n",
    "# ['a', 'b', 'c', 'x'], ['z', 'y', 'i'] => False\n",
    "# ['a', 'b', 'c', 'x'], ['z', 'y', 'x'] => True\n",
    "\n",
    "# Brute force solution (O(n*m) time complexity, O(1) space complexity):\n",
    "def contains_common_item(list1, list2):\n",
    "    for item1 in list1:\n",
    "        for item2 in list2:\n",
    "            if item1 == item2:\n",
    "                return True\n",
    "    return False\n",
    "\n",
    "input_1 = ['a', 'b', 'c', 'x']\n",
    "input_2 = ['z', 'y', 'i']\n",
    "input_3 = ['z', 'y', 'x']\n",
    "\n",
    "print(contains_common_item(input_1, input_2))\n",
    "print(contains_common_item(input_1, input_3))\n",
    "\n",
    "# Solution using a hash table (dictionary) (O(n+m) time complexity, O(n) space complexity):\n",
    "def contains_common_item(list1, list2):\n",
    "    list1_items = {}\n",
    "    for item in list1:\n",
    "        list1_items[item] = True\n",
    "    for item in list2:\n",
    "        try:\n",
    "            if list1_items[item]:\n",
    "                return True\n",
    "        except KeyError:\n",
    "            continue\n",
    "    return False\n",
    "\n",
    "print(contains_common_item(input_1, input_2))\n",
    "print(contains_common_item(input_1, input_3))"
   ]
  },
  {
   "cell_type": "code",
   "execution_count": 21,
   "id": "17a9dace",
   "metadata": {},
   "outputs": [
    {
     "name": "stdout",
     "output_type": "stream",
     "text": [
      "False\n",
      "True\n",
      "False\n",
      "True\n"
     ]
    }
   ],
   "source": [
    "# Sample interview question 2:\n",
    "# from https://www.youtube.com/watch?v=XKu_SEDAykw\n",
    "\n",
    "input_1 = [1, 2, 3, 9]\n",
    "input_2 = [1, 2, 4, 4]\n",
    "\n",
    "# Brute force solution:\n",
    "def has_pair_with_sum(input_list, input_sum):\n",
    "    for i in range(len(input_list)):\n",
    "        for j in range(len(input_list[1:])):\n",
    "            if input_list[i] + input_list[j] == input_sum:\n",
    "                return True\n",
    "    return False\n",
    "\n",
    "print(has_pair_with_sum(input_1, 8))\n",
    "print(has_pair_with_sum(input_2, 8))\n",
    "\n",
    "# Improved solution using a hash table (set):\n",
    "def has_pair_with_sum(input_list, input_sum):\n",
    "    complements = set()\n",
    "    for item in input_list:\n",
    "        if item in complements:\n",
    "            return True\n",
    "        complements.add(input_sum - item)\n",
    "    return False\n",
    "\n",
    "print(has_pair_with_sum(input_1, 8))\n",
    "print(has_pair_with_sum(input_2, 8))"
   ]
  },
  {
   "cell_type": "code",
   "execution_count": null,
   "id": "95c41b78",
   "metadata": {},
   "outputs": [],
   "source": []
  }
 ],
 "metadata": {
  "kernelspec": {
   "display_name": "Python 3 (ipykernel)",
   "language": "python",
   "name": "python3"
  },
  "language_info": {
   "codemirror_mode": {
    "name": "ipython",
    "version": 3
   },
   "file_extension": ".py",
   "mimetype": "text/x-python",
   "name": "python",
   "nbconvert_exporter": "python",
   "pygments_lexer": "ipython3",
   "version": "3.9.12"
  }
 },
 "nbformat": 4,
 "nbformat_minor": 5
}
