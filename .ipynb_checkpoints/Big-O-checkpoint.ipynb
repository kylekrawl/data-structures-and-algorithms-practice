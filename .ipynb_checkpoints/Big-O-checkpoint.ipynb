{
 "cells": [
  {
   "cell_type": "code",
   "execution_count": 8,
   "id": "0b6340d5",
   "metadata": {},
   "outputs": [],
   "source": [
    "def nested_func():\n",
    "    pass\n",
    "\n",
    "# Example of a function with O(n) time complexity:\n",
    "def func_1(n):\n",
    "    a = 10\n",
    "    a = 50 + 3\n",
    "    for i in range(len(n)):\n",
    "        nested_func()\n",
    "        b = True\n",
    "        a += 1\n",
    "    return a"
   ]
  },
  {
   "cell_type": "code",
   "execution_count": 9,
   "id": "21d531ac",
   "metadata": {},
   "outputs": [],
   "source": [
    "# Example of a function with O(n) time complexity:\n",
    "def func_2(n):\n",
    "    a = 5\n",
    "    b = 10\n",
    "    c = 50\n",
    "    for i in range(len(n)):\n",
    "        x = i + 1\n",
    "        y = i + 2\n",
    "        z = i + 3      \n",
    "    for j in range(len(n)):\n",
    "        p = j * 2\n",
    "        q = j * 2\n",
    "    s = \"s\""
   ]
  },
  {
   "cell_type": "code",
   "execution_count": 10,
   "id": "59ce3951",
   "metadata": {},
   "outputs": [],
   "source": [
    "# Example of a function with O(n + m) time complexity (different terms for different inputs):\n",
    "def func_3(n, m):\n",
    "    for i in range(len(n)):\n",
    "        i += 1\n",
    "    for j in range(len(m)):\n",
    "        j += 1"
   ]
  },
  {
   "cell_type": "code",
   "execution_count": 11,
   "id": "ef343e62",
   "metadata": {},
   "outputs": [],
   "source": [
    "# Example of a function with O(n^2) time complexity:\n",
    "def func_4(n):\n",
    "    pairs = []\n",
    "    for i in range(len(n)):\n",
    "        for j in range(len(n)):\n",
    "            pairs.append((n[i], n[j]))\n",
    "    return pairs"
   ]
  },
  {
   "cell_type": "code",
   "execution_count": 12,
   "id": "c89dcf7d",
   "metadata": {},
   "outputs": [],
   "source": [
    "# Example of a function with O(n*m) time complexity (different terms for different inputs):\n",
    "def func_5(n, m):\n",
    "    pairs = []\n",
    "    for i in range(len(n)):\n",
    "        for j in range(len(m)):\n",
    "            pairs.append((n[i], m[j]))\n",
    "    return pairs"
   ]
  },
  {
   "cell_type": "code",
   "execution_count": 13,
   "id": "c8cdaa0d",
   "metadata": {},
   "outputs": [],
   "source": [
    "# Example of a function with O(1) space complexity:\n",
    "def func_6(n):\n",
    "    for i in range(len(n)):\n",
    "        print(i)"
   ]
  },
  {
   "cell_type": "code",
   "execution_count": 14,
   "id": "0f0c877d",
   "metadata": {},
   "outputs": [],
   "source": [
    "# Example of a function with O(n) space complexity:\n",
    "def func_7(n):\n",
    "    output = []\n",
    "    for i in range(len(n)):\n",
    "        output[i] = \"s\"\n",
    "    return output"
   ]
  },
  {
   "cell_type": "code",
   "execution_count": null,
   "id": "c5989279",
   "metadata": {},
   "outputs": [],
   "source": []
  }
 ],
 "metadata": {
  "kernelspec": {
   "display_name": "Python 3 (ipykernel)",
   "language": "python",
   "name": "python3"
  },
  "language_info": {
   "codemirror_mode": {
    "name": "ipython",
    "version": 3
   },
   "file_extension": ".py",
   "mimetype": "text/x-python",
   "name": "python",
   "nbconvert_exporter": "python",
   "pygments_lexer": "ipython3",
   "version": "3.9.12"
  }
 },
 "nbformat": 4,
 "nbformat_minor": 5
}
